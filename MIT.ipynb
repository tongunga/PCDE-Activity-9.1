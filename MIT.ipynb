{
 "cells": [
  {
   "cell_type": "markdown",
   "metadata": {},
   "source": [
    "# The Massachusetts Institute of Technology (MIT)\n",
    "\n",
    "**Emile Tongunga (tongunga)**\n",
    "\n",
    "The Massachusetts Institute of Technology (MIT) is a private university in Cambridge, Massachusetts, United States. Established in 1861, MIT has since then been at the center of the development of modern technology and science[3]. Since it was founded, MIT has been ranked among the top academic institutions in the world.\n",
    "\n",
    "You can read from the MIT website: \"Around the turn of the century, a team of MIT staff and a group of consulting designers, working with the legendary type designer Matthew Carter, devised the careful combination of seven squared-off shapes that was launched as our official logo in 2003\"[1]. The image below displays the original logo.\n",
    "\n",
    "![](mit-redgrey-large3.gif)"
   ]
  },
  {
   "cell_type": "markdown",
   "metadata": {},
   "source": [
    "## References\n",
    "[1] \"History | MIT Brand Guide\", MIT - Institute Office of Communications, https://brand.mit.edu/history, retrieved on 19 Nov 2024\n",
    "\n",
    "[2] CJ Q. '23, \"Why didn’t MIT have a logo until 2003?\", MIT Admissions, https://mitadmissions.org/blogs/entry/graphic-identity-history/, retrieved on 19 Nov 2024\n",
    "\n",
    "[3] Wikipedia, \"Massachusetts Institute of Technology\", https://en.wikipedia.org/wiki/Massachusetts_Institute_of_Technology, retrieved on 19 Nov 2024"
   ]
  }
 ],
 "metadata": {
  "kernelspec": {
   "display_name": "Python 3",
   "language": "python",
   "name": "python3"
  },
  "language_info": {
   "codemirror_mode": {
    "name": "ipython",
    "version": 3
   },
   "file_extension": ".py",
   "mimetype": "text/x-python",
   "name": "python",
   "nbconvert_exporter": "python",
   "pygments_lexer": "ipython3",
   "version": "3.7.3"
  }
 },
 "nbformat": 4,
 "nbformat_minor": 4
}
